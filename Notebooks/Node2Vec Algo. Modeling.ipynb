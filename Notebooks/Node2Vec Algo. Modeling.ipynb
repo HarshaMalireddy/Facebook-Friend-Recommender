{
 "cells": [
  {
   "cell_type": "code",
   "execution_count": 345,
   "metadata": {},
   "outputs": [],
   "source": [
    "import networkx as nx\n",
    "import pandas as pd\n",
    "import numpy as np\n",
    "import matplotlib.pyplot as plt\n",
    "import seaborn as sns\n",
    "import pickle\n",
    "\n",
    "from sklearn.metrics import accuracy_score, precision_score, recall_score, log_loss, f1_score\n",
    "from sklearn.metrics import f1_score, auc, roc_curve, plot_confusion_matrix, classification_report\n",
    "from sklearn.linear_model import LogisticRegression\n",
    "from sklearn.ensemble import RandomForestClassifier, GradientBoostingClassifier\n",
    "from sklearn.neural_network import MLPClassifier\n",
    "from sklearn.model_selection import GridSearchCV, train_test_split"
   ]
  },
  {
   "cell_type": "code",
   "execution_count": 385,
   "metadata": {},
   "outputs": [],
   "source": [
    "# Loads the saved pickle file data\n",
    "\n",
    "file = open('./Pickle Files/Node2Vec_Pre-Processing_Data.pickle','rb')\n",
    "new_unconnected_df = pickle.load(file)\n",
    "node2vec_model = pickle.load(file)\n",
    "X_train = pickle.load(file)\n",
    "X_test = pickle.load(file)\n",
    "y_train = pickle.load(file)\n",
    "y_test = pickle.load(file)\n",
    "\n",
    "file = open('./Pickle Files/Data_Wrangling_Data.pickle','rb')\n",
    "_ = pickle.load(file)\n",
    "G = pickle.load(file)"
   ]
  },
  {
   "cell_type": "markdown",
   "metadata": {},
   "source": [
    "# Node2Vec Modeling Approach"
   ]
  },
  {
   "cell_type": "markdown",
   "metadata": {},
   "source": [
    "# Logistic Regression Classifier"
   ]
  },
  {
   "cell_type": "markdown",
   "metadata": {},
   "source": [
    "1. Uses GridSearchCV for hyperparameter tuning to pick best model version"
   ]
  },
  {
   "cell_type": "code",
   "execution_count": 307,
   "metadata": {
    "scrolled": false
   },
   "outputs": [
    {
     "name": "stdout",
     "output_type": "stream",
     "text": [
      "LogisticRegression(C=0.01, max_iter=1000, random_state=0)\n"
     ]
    }
   ],
   "source": [
    "lr = LogisticRegression(random_state = 0, max_iter = 1000)\n",
    "param_grid = {'C': [0.01,0.1,1]}\n",
    "gs_lr = GridSearchCV(lr, param_grid = param_grid, scoring = 'accuracy', cv = 3, n_jobs = -1)\n",
    "gs_lr.fit(X_train, y_train)\n",
    "lr = gs_lr.best_estimator_\n",
    "print(lr)"
   ]
  },
  {
   "cell_type": "markdown",
   "metadata": {},
   "source": [
    "2. Fits model & makes predictions"
   ]
  },
  {
   "cell_type": "code",
   "execution_count": 308,
   "metadata": {},
   "outputs": [],
   "source": [
    "y_pred_lr = lr.predict(X_test)"
   ]
  },
  {
   "cell_type": "markdown",
   "metadata": {},
   "source": [
    "3. Calculates Accuracy, Precision, Recall, F1 Score, Log-Loss, AUC-ROC"
   ]
  },
  {
   "cell_type": "code",
   "execution_count": 309,
   "metadata": {},
   "outputs": [
    {
     "name": "stdout",
     "output_type": "stream",
     "text": [
      "              precision    recall  f1-score   support\n",
      "\n",
      "           0       0.68      0.69      0.69     17000\n",
      "           1       0.68      0.68      0.68     16840\n",
      "\n",
      "    accuracy                           0.68     33840\n",
      "   macro avg       0.68      0.68      0.68     33840\n",
      "weighted avg       0.68      0.68      0.68     33840\n",
      "\n"
     ]
    }
   ],
   "source": [
    "# Classification Report\n",
    "\n",
    "print(classification_report(y_test, y_pred_lr, zero_division = 0))"
   ]
  },
  {
   "cell_type": "code",
   "execution_count": 310,
   "metadata": {},
   "outputs": [
    {
     "name": "stdout",
     "output_type": "stream",
     "text": [
      "Accuracy: 0.68\n",
      "Precision: 0.68\n",
      "Recall: 0.68\n",
      "F1-Score: 0.68\n",
      "Log Loss: 0.6\n"
     ]
    }
   ],
   "source": [
    "# Computes Accuracy, Precision, Recall, F1 Score, Log-Loss\n",
    "\n",
    "accuracy, precision, recall, f1, logloss = [], [], [], [], []\n",
    "\n",
    "accuracy.append(round(accuracy_score(y_test, y_pred_lr),2))\n",
    "precision.append(round(precision_score(y_test, y_pred_lr, average = 'macro', zero_division = 0),2))\n",
    "recall.append(round(recall_score(y_test, y_pred_lr, average = 'macro'),2))\n",
    "f1.append(round(f1_score(y_test, y_pred_lr, average = 'macro'),2))\n",
    "lr_probas = lr.predict_proba(X_test)\n",
    "logloss.append(round(log_loss(y_test, lr_probas),2))\n",
    "\n",
    "print('Accuracy: {}'.format(accuracy[-1]))\n",
    "print('Precision: {}'.format(precision[-1]))\n",
    "print('Recall: {}'.format(recall[-1])) \n",
    "print('F1-Score: {}'.format(f1[-1]))\n",
    "print('Log Loss: {}'.format(logloss[-1]))"
   ]
  },
  {
   "cell_type": "code",
   "execution_count": 311,
   "metadata": {},
   "outputs": [
    {
     "name": "stdout",
     "output_type": "stream",
     "text": [
      "Logistic Regression AUC-ROC 0.74\n"
     ]
    }
   ],
   "source": [
    "# Computer AUC-ROC\n",
    "\n",
    "fpr = dict()\n",
    "tpr = dict() \n",
    "roc_auc = dict()\n",
    "colors = ['blue', 'red', 'green', 'purple']\n",
    "\n",
    "probs = lr.predict_proba(X_test)[:,1]\n",
    "\n",
    "fpr[\"Logistic Regression\"], tpr[\"Logistic Regression\"], _ = roc_curve(y_test, probs)\n",
    "roc_auc[\"Logistic Regression\"] = auc(fpr[\"Logistic Regression\"], tpr[\"Logistic Regression\"])                           \n",
    "\n",
    "print('Logistic Regression AUC-ROC {0:.2f}'.format(roc_auc['Logistic Regression']))"
   ]
  },
  {
   "cell_type": "markdown",
   "metadata": {},
   "source": [
    "4. Prints Confusion Matrix"
   ]
  },
  {
   "cell_type": "code",
   "execution_count": 312,
   "metadata": {
    "scrolled": true
   },
   "outputs": [
    {
     "data": {
      "image/png": "[encoded data removed]",
      "text/plain": [
       "<Figure size 360x360 with 2 Axes>"
      ]
     },
     "metadata": {
      "needs_background": "light"
     },
     "output_type": "display_data"
    }
   ],
   "source": [
    "fig, ax = plt.subplots(figsize=(5, 5))\n",
    "disp = plot_confusion_matrix(lr, X_test, y_test, cmap = plt.cm.Blues, ax = ax, xticks_rotation = 'vertical')\n",
    "plt.show()"
   ]
  },
  {
   "cell_type": "markdown",
   "metadata": {},
   "source": [
    "# Random Forest Classifier"
   ]
  },
  {
   "cell_type": "markdown",
   "metadata": {},
   "source": [
    "1. Uses GridSearchCV for hyperparameter tuning to pick best model version"
   ]
  },
  {
   "cell_type": "code",
   "execution_count": 313,
   "metadata": {},
   "outputs": [
    {
     "name": "stdout",
     "output_type": "stream",
     "text": [
      "RandomForestClassifier(n_estimators=500, random_state=0)\n"
     ]
    }
   ],
   "source": [
    "rf = RandomForestClassifier(random_state = 0)\n",
    "param_grid = {'n_estimators': [100,300,500]}\n",
    "gs_rf = GridSearchCV(rf, param_grid = param_grid, scoring = 'accuracy', cv = 3, n_jobs = -1)\n",
    "gs_rf.fit(X_train, y_train)\n",
    "rf = gs_rf.best_estimator_\n",
    "print(rf)"
   ]
  },
  {
   "cell_type": "markdown",
   "metadata": {},
   "source": [
    "2. Fits model & makes predictions"
   ]
  },
  {
   "cell_type": "code",
   "execution_count": 314,
   "metadata": {},
   "outputs": [],
   "source": [
    "y_pred_rf = rf.predict(X_test)"
   ]
  },
  {
   "cell_type": "markdown",
   "metadata": {},
   "source": [
    "3. Calculates Accuracy, Precision, Recall, F1 Score, Log-Loss, AUC-ROC"
   ]
  },
  {
   "cell_type": "code",
   "execution_count": 315,
   "metadata": {},
   "outputs": [
    {
     "name": "stdout",
     "output_type": "stream",
     "text": [
      "              precision    recall  f1-score   support\n",
      "\n",
      "           0       0.85      0.83      0.84     17000\n",
      "           1       0.83      0.85      0.84     16840\n",
      "\n",
      "    accuracy                           0.84     33840\n",
      "   macro avg       0.84      0.84      0.84     33840\n",
      "weighted avg       0.84      0.84      0.84     33840\n",
      "\n"
     ]
    }
   ],
   "source": [
    "# Classification Report\n",
    "\n",
    "print(classification_report(y_test, y_pred_rf))"
   ]
  },
  {
   "cell_type": "code",
   "execution_count": 316,
   "metadata": {},
   "outputs": [
    {
     "name": "stdout",
     "output_type": "stream",
     "text": [
      "Accuracy: 0.84\n",
      "Precision: 0.84\n",
      "Recall: 0.84\n",
      "F1-Score: 0.84\n",
      "Log Loss: 0.39\n"
     ]
    }
   ],
   "source": [
    "# Computes Accuracy, Precision, Recall, F1 Score, Log-Loss\n",
    "\n",
    "accuracy.append(round(accuracy_score(y_test, y_pred_rf),2))\n",
    "precision.append(round(precision_score(y_test, y_pred_rf, average = 'macro'),2))\n",
    "recall.append(round(recall_score(y_test, y_pred_rf, average = 'macro'),2))\n",
    "f1.append(round(f1_score(y_test, y_pred_rf, average = 'macro'),2))\n",
    "rf_probas = rf.predict_proba(X_test)\n",
    "logloss.append(round(log_loss(y_test, rf_probas),2))\n",
    "\n",
    "print('Accuracy: {}'.format(accuracy[-1]))\n",
    "print('Precision: {}'.format(precision[-1]))\n",
    "print('Recall: {}'.format(recall[-1])) \n",
    "print('F1-Score: {}'.format(f1[-1]))\n",
    "print('Log Loss: {}'.format(logloss[-1]))"
   ]
  },
  {
   "cell_type": "code",
   "execution_count": 317,
   "metadata": {},
   "outputs": [
    {
     "name": "stdout",
     "output_type": "stream",
     "text": [
      "Random Forest ROC Curve Area 0.90\n"
     ]
    }
   ],
   "source": [
    "# Computer AUC-ROC\n",
    "\n",
    "rf_probs = rf.predict_proba(X_test)[:,1]\n",
    "\n",
    "fpr[\"Random Forest\"], tpr[\"Random Forest\"], _ = roc_curve(y_test, rf_probs)\n",
    "roc_auc[\"Random Forest\"] = auc(fpr[\"Random Forest\"], tpr[\"Random Forest\"])                           \n",
    "\n",
    "print('Random Forest ROC Curve Area {0:.2f}'.format(roc_auc['Random Forest']))"
   ]
  },
  {
   "cell_type": "markdown",
   "metadata": {},
   "source": [
    "4. Prints Confusion Matrix"
   ]
  },
  {
   "cell_type": "code",
   "execution_count": 319,
   "metadata": {},
   "outputs": [
    {
     "data": {
      "image/png": "[encoded data removed]",
      "text/plain": [
       "<Figure size 360x360 with 2 Axes>"
      ]
     },
     "metadata": {
      "needs_background": "light"
     },
     "output_type": "display_data"
    }
   ],
   "source": [
    "fig, ax = plt.subplots(figsize=(5, 5))\n",
    "disp = plot_confusion_matrix(rf, X_test, y_test, cmap = plt.cm.Blues, ax = ax, xticks_rotation = 'vertical')\n",
    "plt.show()"
   ]
  },
  {
   "cell_type": "markdown",
   "metadata": {},
   "source": [
    "# Gradient Boosting Classifier"
   ]
  },
  {
   "cell_type": "markdown",
   "metadata": {},
   "source": [
    "1. Uses GridSearchCV for hyperparameter tuning to pick best model version"
   ]
  },
  {
   "cell_type": "code",
   "execution_count": 320,
   "metadata": {},
   "outputs": [
    {
     "name": "stdout",
     "output_type": "stream",
     "text": [
      "GradientBoostingClassifier(random_state=0)\n"
     ]
    }
   ],
   "source": [
    "gb = GradientBoostingClassifier(random_state = 0)\n",
    "param_grid = {'learning_rate': [0.01,0.05,0.1]}\n",
    "gs_gb = GridSearchCV(gb, param_grid = param_grid, scoring = 'accuracy', cv = 3, n_jobs = -1)\n",
    "gs_gb.fit(X_train, y_train)\n",
    "gb = gs_gb.best_estimator_\n",
    "print(gb)"
   ]
  },
  {
   "cell_type": "markdown",
   "metadata": {},
   "source": [
    "2. Fits model & makes predictions"
   ]
  },
  {
   "cell_type": "code",
   "execution_count": 321,
   "metadata": {},
   "outputs": [],
   "source": [
    "y_pred_gb = gb.predict(X_test)"
   ]
  },
  {
   "cell_type": "markdown",
   "metadata": {},
   "source": [
    "3. Calculates Accuracy, Precision, Recall, F1 Score, Log-Loss, AUC-ROC"
   ]
  },
  {
   "cell_type": "code",
   "execution_count": 322,
   "metadata": {},
   "outputs": [
    {
     "name": "stdout",
     "output_type": "stream",
     "text": [
      "              precision    recall  f1-score   support\n",
      "\n",
      "           0       0.77      0.85      0.81     17000\n",
      "           1       0.83      0.74      0.78     16840\n",
      "\n",
      "    accuracy                           0.80     33840\n",
      "   macro avg       0.80      0.80      0.79     33840\n",
      "weighted avg       0.80      0.80      0.79     33840\n",
      "\n"
     ]
    }
   ],
   "source": [
    "# Classification Report\n",
    "\n",
    "print(classification_report(y_test, y_pred_gb))"
   ]
  },
  {
   "cell_type": "code",
   "execution_count": 323,
   "metadata": {},
   "outputs": [
    {
     "name": "stdout",
     "output_type": "stream",
     "text": [
      "Accuracy: 0.8\n",
      "Precision: 0.8\n",
      "Recall: 0.8\n",
      "F1-Score: 0.79\n",
      "Log Loss: 0.48\n"
     ]
    }
   ],
   "source": [
    "# Computes Accuracy, Precision, Recall, F1 Score, Log-Loss\n",
    "\n",
    "accuracy.append(round(accuracy_score(y_test, y_pred_gb),2))\n",
    "precision.append(round(precision_score(y_test, y_pred_gb, average = 'macro'),2))\n",
    "recall.append(round(recall_score(y_test, y_pred_gb, average = 'macro'),2))\n",
    "f1.append(round(f1_score(y_test, y_pred_gb, average = 'macro'),2))\n",
    "gb_probas = gb.predict_proba(X_test)\n",
    "logloss.append(round(log_loss(y_test, gb_probas),2))\n",
    "\n",
    "print('Accuracy: {}'.format(accuracy[-1]))\n",
    "print('Precision: {}'.format(precision[-1]))\n",
    "print('Recall: {}'.format(recall[-1])) \n",
    "print('F1-Score: {}'.format(f1[-1]))\n",
    "print('Log Loss: {}'.format(logloss[-1]))"
   ]
  },
  {
   "cell_type": "code",
   "execution_count": 324,
   "metadata": {},
   "outputs": [
    {
     "name": "stdout",
     "output_type": "stream",
     "text": [
      "Gradient Boosting ROC Curve Area 0.86\n"
     ]
    }
   ],
   "source": [
    "# Computer AUC-ROC\n",
    "\n",
    "gb_probs = gb.predict_proba(X_test)[:,1]\n",
    "\n",
    "fpr[\"Gradient Boosting\"], tpr[\"Gradient Boosting\"], _ = roc_curve(y_test, gb_probs)\n",
    "roc_auc[\"Gradient Boosting\"] = auc(fpr[\"Gradient Boosting\"], tpr[\"Gradient Boosting\"])                           \n",
    "\n",
    "print('Gradient Boosting ROC Curve Area {0:.2f}'.format(roc_auc['Gradient Boosting']))"
   ]
  },
  {
   "cell_type": "markdown",
   "metadata": {},
   "source": [
    "4. Prints Confusion Matrix"
   ]
  },
  {
   "cell_type": "code",
   "execution_count": 325,
   "metadata": {},
   "outputs": [
    {
     "data": {
      "image/png": "[encoded data removed]",
      "text/plain": [
       "<Figure size 360x360 with 2 Axes>"
      ]
     },
     "metadata": {
      "needs_background": "light"
     },
     "output_type": "display_data"
    }
   ],
   "source": [
    "fig, ax = plt.subplots(figsize=(5, 5))\n",
    "disp = plot_confusion_matrix(gb, X_test, y_test, cmap = plt.cm.Blues, ax = ax, xticks_rotation = 'vertical')\n",
    "plt.show()"
   ]
  },
  {
   "cell_type": "markdown",
   "metadata": {},
   "source": [
    "# Multi-layer Perceptron Classifier (Neural Network Classifier)"
   ]
  },
  {
   "cell_type": "markdown",
   "metadata": {},
   "source": [
    "1. Uses GridSearchCV for hyperparameter tuning to pick best model version"
   ]
  },
  {
   "cell_type": "code",
   "execution_count": 328,
   "metadata": {},
   "outputs": [
    {
     "name": "stderr",
     "output_type": "stream",
     "text": [
      "/opt/anaconda3/lib/python3.8/site-packages/sklearn/neural_network/_multilayer_perceptron.py:582: ConvergenceWarning: Stochastic Optimizer: Maximum iterations (1000) reached and the optimization hasn't converged yet.\n",
      "  warnings.warn(\n",
      "/opt/anaconda3/lib/python3.8/site-packages/sklearn/neural_network/_multilayer_perceptron.py:582: ConvergenceWarning: Stochastic Optimizer: Maximum iterations (1000) reached and the optimization hasn't converged yet.\n",
      "  warnings.warn(\n"
     ]
    },
    {
     "name": "stdout",
     "output_type": "stream",
     "text": [
      "MLPClassifier(activation='tanh', max_iter=1000, random_state=0, solver='sgd')\n"
     ]
    }
   ],
   "source": [
    "mlp = MLPClassifier(random_state = 0, max_iter = 1000)\n",
    "param_grid = {'activation': ['tanh','relu'], 'solver': ['sgd','adam']}\n",
    "gs_mlp = GridSearchCV(mlp, param_grid = param_grid, scoring = 'accuracy')\n",
    "gs_mlp.fit(X_train, y_train)\n",
    "mlp = gs_mlp.best_estimator_\n",
    "print(mlp)"
   ]
  },
  {
   "cell_type": "markdown",
   "metadata": {},
   "source": [
    "2. Fits model & makes predictions"
   ]
  },
  {
   "cell_type": "code",
   "execution_count": 329,
   "metadata": {},
   "outputs": [],
   "source": [
    "mlp.fit(X_train, y_train)\n",
    "y_pred_mlp = mlp.predict(X_test)"
   ]
  },
  {
   "cell_type": "markdown",
   "metadata": {},
   "source": [
    "3. Calculates Accuracy, Precision, Recall, F1 Score, Log-Loss, AUC-ROC"
   ]
  },
  {
   "cell_type": "code",
   "execution_count": 330,
   "metadata": {},
   "outputs": [
    {
     "name": "stdout",
     "output_type": "stream",
     "text": [
      "              precision    recall  f1-score   support\n",
      "\n",
      "           0       0.89      0.81      0.85     17000\n",
      "           1       0.82      0.90      0.86     16840\n",
      "\n",
      "    accuracy                           0.85     33840\n",
      "   macro avg       0.86      0.85      0.85     33840\n",
      "weighted avg       0.86      0.85      0.85     33840\n",
      "\n"
     ]
    }
   ],
   "source": [
    "# Classification Report\n",
    "\n",
    "print(classification_report(y_test, y_pred_mlp))"
   ]
  },
  {
   "cell_type": "code",
   "execution_count": 331,
   "metadata": {},
   "outputs": [
    {
     "name": "stdout",
     "output_type": "stream",
     "text": [
      "Accuracy: 0.85\n",
      "Precision: 0.86\n",
      "Recall: 0.85\n",
      "F1-Score: 0.85\n",
      "Log Loss: 0.35\n"
     ]
    }
   ],
   "source": [
    "# Computes Accuracy, Precision, Recall, F1 Score, Log-Loss\n",
    "\n",
    "accuracy.append(round(accuracy_score(y_test, y_pred_mlp),2))\n",
    "precision.append(round(precision_score(y_test, y_pred_mlp, average = 'macro'),2))\n",
    "recall.append(round(recall_score(y_test, y_pred_mlp, average = 'macro'),2))\n",
    "f1.append(round(f1_score(y_test, y_pred_mlp, average = 'macro'),2))\n",
    "mlp_probas = mlp.predict_proba(X_test)\n",
    "logloss.append(round(log_loss(y_test, mlp_probas),2))\n",
    "\n",
    "print('Accuracy: {}'.format(accuracy[-1]))\n",
    "print('Precision: {}'.format(precision[-1]))\n",
    "print('Recall: {}'.format(recall[-1])) \n",
    "print('F1-Score: {}'.format(f1[-1]))\n",
    "print('Log Loss: {}'.format(logloss[-1]))"
   ]
  },
  {
   "cell_type": "code",
   "execution_count": 332,
   "metadata": {},
   "outputs": [
    {
     "name": "stdout",
     "output_type": "stream",
     "text": [
      "Neural Network ROC Curve Area 0.92\n"
     ]
    }
   ],
   "source": [
    "# Computer AUC-ROC\n",
    "\n",
    "mlp_probs = mlp.predict_proba(X_test)[:,1]\n",
    "\n",
    "fpr[\"Neural Network\"], tpr[\"Neural Network\"], _ = roc_curve(y_test, mlp_probs)\n",
    "roc_auc[\"Neural Network\"] = auc(fpr[\"Neural Network\"], tpr[\"Neural Network\"])                           \n",
    "\n",
    "print('Neural Network ROC Curve Area {0:.2f}'.format(roc_auc['Neural Network']))"
   ]
  },
  {
   "cell_type": "markdown",
   "metadata": {},
   "source": [
    "4. Prints Confusion Matrix"
   ]
  },
  {
   "cell_type": "code",
   "execution_count": 333,
   "metadata": {},
   "outputs": [
    {
     "data": {
      "image/png": "[encoded data removed]",
      "text/plain": [
       "<Figure size 360x360 with 2 Axes>"
      ]
     },
     "metadata": {
      "needs_background": "light"
     },
     "output_type": "display_data"
    }
   ],
   "source": [
    "fig, ax = plt.subplots(figsize=(5, 5))\n",
    "disp = plot_confusion_matrix(mlp, X_test, y_test, cmap = plt.cm.Blues, ax = ax, xticks_rotation = 'vertical')\n",
    "plt.show()"
   ]
  },
  {
   "cell_type": "markdown",
   "metadata": {},
   "source": [
    "# Model Comparison"
   ]
  },
  {
   "cell_type": "markdown",
   "metadata": {},
   "source": [
    "1. Compares models accuracies: Creates 5 bar plots for each of the metrics of accuracy, precision, recall, F1-score, log-loss metrics for each of the 4 models"
   ]
  },
  {
   "cell_type": "code",
   "execution_count": 334,
   "metadata": {},
   "outputs": [
    {
     "data": {
      "image/png": "[encoded data removed]",
      "text/plain": [
       "<Figure size 720x360 with 1 Axes>"
      ]
     },
     "metadata": {
      "needs_background": "light"
     },
     "output_type": "display_data"
    },
    {
     "data": {
      "image/png": "[encoded data removed]",
      "text/plain": [
       "<Figure size 720x360 with 1 Axes>"
      ]
     },
     "metadata": {
      "needs_background": "light"
     },
     "output_type": "display_data"
    },
    {
     "data": {
      "image/png": "[encoded data removed]",
      "text/plain": [
       "<Figure size 720x360 with 1 Axes>"
      ]
     },
     "metadata": {
      "needs_background": "light"
     },
     "output_type": "display_data"
    },
    {
     "data": {
      "image/png": "[encoded data removed]",
      "text/plain": [
       "<Figure size 720x360 with 1 Axes>"
      ]
     },
     "metadata": {
      "needs_background": "light"
     },
     "output_type": "display_data"
    },
    {
     "data": {
      "image/png": "[encoded data removed]",
      "text/plain": [
       "<Figure size 720x360 with 1 Axes>"
      ]
     },
     "metadata": {
      "needs_background": "light"
     },
     "output_type": "display_data"
    }
   ],
   "source": [
    "labels = ['Logistic Regression','Random Forest','Gradient Boosting', 'MLP (Neural Network)']\n",
    "\n",
    "# Plotting Accuracy Scores\n",
    "plt.figure(figsize = (10,5))\n",
    "plt.xlabel('Models', fontsize = 15)\n",
    "plt.ylabel('Accuracy Scores', fontsize = 15)\n",
    "plt.title('Accuracy Scores Of Models', fontsize = 15)\n",
    "\n",
    "bars = plt.bar(labels, accuracy, color = 'blue')\n",
    "for bar in bars:\n",
    "    plt.text(bar.get_x() + 0.3, bar.get_height() + 0.005, bar.get_height())\n",
    "plt.show()\n",
    "\n",
    "# Plotting Precision Scores\n",
    "plt.figure(figsize = (10,5))\n",
    "plt.xlabel('Models', fontsize = 15)\n",
    "plt.ylabel('Precision Scores', fontsize = 15)\n",
    "plt.title('Precision Scores Of Models', fontsize = 15)\n",
    "\n",
    "bars = plt.bar(labels, precision, color = 'red')\n",
    "for bar in bars:\n",
    "    plt.text(bar.get_x() + 0.3, bar.get_height() + 0.005, bar.get_height())\n",
    "plt.show()\n",
    "\n",
    "# Plotting Recall Scores\n",
    "plt.figure(figsize = (10,5))\n",
    "plt.xlabel('Models', fontsize = 15)\n",
    "plt.ylabel('Recall Scores', fontsize = 15)\n",
    "plt.title('Recall Scores Of Models', fontsize = 15)\n",
    "\n",
    "bars = plt.bar(labels, recall, color = 'green')\n",
    "for bar in bars:\n",
    "    plt.text(bar.get_x() + 0.3, bar.get_height() + 0.005, bar.get_height())\n",
    "plt.show()\n",
    "\n",
    "# Plotting F1 Scores\n",
    "plt.figure(figsize = (10,5))\n",
    "plt.xlabel('Models', fontsize = 15)\n",
    "plt.ylabel('F1 Scores', fontsize = 15)\n",
    "plt.title('F1 Scores Of Models', fontsize = 15)\n",
    "\n",
    "bars = plt.bar(labels, f1, color = 'orange')\n",
    "for bar in bars:\n",
    "    plt.text(bar.get_x() + 0.3, bar.get_height() + 0.005, bar.get_height())\n",
    "plt.show()\n",
    "\n",
    "# Plotting Log Loss Scores\n",
    "plt.figure(figsize = (10,5))\n",
    "plt.xlabel('Models', fontsize = 15)\n",
    "plt.ylabel('Log Loss Scores', fontsize = 15)\n",
    "plt.title('Log Loss Scores Of Models', fontsize = 15)\n",
    "\n",
    "bars = plt.bar(labels, logloss, color = 'purple')\n",
    "for bar in bars: \n",
    "    plt.text(bar.get_x() + 0.3, bar.get_height() + 0.01, bar.get_height())\n",
    "plt.show()"
   ]
  },
  {
   "cell_type": "markdown",
   "metadata": {},
   "source": [
    "2. Compares models AUC-ROC"
   ]
  },
  {
   "cell_type": "code",
   "execution_count": 335,
   "metadata": {},
   "outputs": [
    {
     "data": {
      "image/png": "[encoded data removed]",
      "text/plain": [
       "<Figure size 432x288 with 1 Axes>"
      ]
     },
     "metadata": {
      "needs_background": "light"
     },
     "output_type": "display_data"
    }
   ],
   "source": [
    "for fp, tp, color, roc in zip(fpr, tpr, colors, roc_auc): \n",
    "    plt.plot(fpr[fp], tpr[tp], color = color, lw = 2, label = '{0} ROC curve (area = {1:0.2f})'.format(roc, roc_auc[roc]))\n",
    "\n",
    "plt.plot([0, 1], [0, 1], 'k--')\n",
    "plt.xlim([0.0, 1.0])\n",
    "plt.ylim([0.0, 1.05])\n",
    "plt.xlabel('False Positive Rate')\n",
    "plt.ylabel('True Positive Rate')\n",
    "plt.title('ROC For Multi-Class Data')\n",
    "plt.legend(loc = \"lower right\")\n",
    "plt.show()"
   ]
  },
  {
   "cell_type": "markdown",
   "metadata": {},
   "source": [
    "# Facebook Friend Recommender"
   ]
  },
  {
   "cell_type": "markdown",
   "metadata": {},
   "source": [
    "Iterates through a specific node's unconnected pairs and displays the top k recommended friends as requested by the user"
   ]
  },
  {
   "cell_type": "code",
   "execution_count": 338,
   "metadata": {},
   "outputs": [],
   "source": [
    "# Gets probabilites for each unconnected pair that includes the user requested user # and prints the top k as requested by user\n",
    "\n",
    "def recommend_friends():\n",
    "    \n",
    "    df = []\n",
    "    \n",
    "    # Prompts the user for user to recommend friends for\n",
    "    while True: \n",
    "        \n",
    "        num = input(f'Please enter the user (0-4038) to get friend recommendations for:\\n')\n",
    "        try: int(num)\n",
    "        except ValueError: continue\n",
    "        num = int(num)\n",
    "        if not (num >= 0 and num < len(G.nodes)): continue\n",
    "        else: break\n",
    "    \n",
    "    df = new_unconnected_df[(new_unconnected_df.loc[:,'Node 1'] == num) | (new_unconnected_df.loc[:,'Node 2'] == num)]\n",
    "    \n",
    "    # Prompts the user for how many recommmendations they want\n",
    "    while True:\n",
    "        k = input(f'Please enter the k number of friend recommendations out of {len(df)} that you would like to recieve:\\n')\n",
    "        try: int(k)\n",
    "        except ValueError: continue\n",
    "        k = int(k)\n",
    "        if not (k > 0 and k <= len(df)): continue\n",
    "        else: break\n",
    "       \n",
    "    # Finds the top most likely unconnected node future links and their probabilities of linking to the specific user specified\n",
    "    features = []\n",
    "    for i,j in zip(df['Node 1'], df['Node 2']):\n",
    "        features.append(node2vec_model.wv[str(i)] + node2vec_model.wv[str(j)])\n",
    "    \n",
    "    features = np.array(features) \n",
    "    \n",
    "    top_k_indices = np.flip(np.argsort(mlp.predict_proba(features)[:,1]))[0:k]\n",
    "    \n",
    "    rec_friends, node = {}, ''\n",
    "    \n",
    "    # Stores the user values and probabilites in a dictionary\n",
    "    for i in top_k_indices:\n",
    "        \n",
    "        if df.iloc[i]['Node 1'] != num: node = 'Node 1'\n",
    "        else: node = 'Node 2'\n",
    "    \n",
    "        rec_friends[df.iloc[i][node]] = round(mlp.predict_proba(features)[:,1][i] * 100,2)\n",
    "    \n",
    "    # Prints the most likely future recommended friends\n",
    "    print(f'Friend recommendations for user {num} are:\\n')\n",
    "    for u,p in rec_friends.items():\n",
    "        print(f'User {u} at {p}% chance of a future link') "
   ]
  },
  {
   "cell_type": "code",
   "execution_count": 339,
   "metadata": {},
   "outputs": [
    {
     "name": "stdout",
     "output_type": "stream",
     "text": [
      "Please enter the user (0-4038) to get friend recommendations for:\n",
      "65\n",
      "Please enter the k number of friend recommendations out of 22 that you would like to recieve:\n",
      "22\n",
      "Friend recommendations for user 65 are:\n",
      "\n",
      "User 168 at 82.56% chance of a future link\n",
      "User 221 at 73.65% chance of a future link\n",
      "User 315 at 66.85% chance of a future link\n",
      "User 56 at 62.53% chance of a future link\n",
      "User 274 at 54.61% chance of a future link\n",
      "User 75 at 53.54% chance of a future link\n",
      "User 325 at 53.07% chance of a future link\n",
      "User 3 at 48.2% chance of a future link\n",
      "User 30 at 42.2% chance of a future link\n",
      "User 73 at 29.01% chance of a future link\n",
      "User 234 at 18.27% chance of a future link\n",
      "User 229 at 17.61% chance of a future link\n",
      "User 55 at 13.17% chance of a future link\n",
      "User 92 at 10.66% chance of a future link\n",
      "User 195 at 10.35% chance of a future link\n",
      "User 177 at 4.59% chance of a future link\n",
      "User 139 at 3.42% chance of a future link\n",
      "User 167 at 0.55% chance of a future link\n",
      "User 81 at 0.35% chance of a future link\n",
      "User 93 at 0.32% chance of a future link\n",
      "User 216 at 0.21% chance of a future link\n",
      "User 6 at 0.03% chance of a future link\n"
     ]
    }
   ],
   "source": [
    "recommend_friends()"
   ]
  },
  {
   "cell_type": "code",
   "execution_count": 381,
   "metadata": {},
   "outputs": [],
   "source": [
    "# Saves models to pickle file\n",
    "\n",
    "file = open('./Pickle Files/Node2Vec_Models.pickle','wb')\n",
    "pickle.dump(lr, file)\n",
    "pickle.dump(rf, file)\n",
    "pickle.dump(gb, file)\n",
    "pickle.dump(mlp, file)"
   ]
  }
 ],
 "metadata": {
  "kernelspec": {
   "display_name": "Python 3",
   "language": "python",
   "name": "python3"
  },
  "language_info": {
   "codemirror_mode": {
    "name": "ipython",
    "version": 3
   },
   "file_extension": ".py",
   "mimetype": "text/x-python",
   "name": "python",
   "nbconvert_exporter": "python",
   "pygments_lexer": "ipython3",
   "version": "3.8.5"
  }
 },
 "nbformat": 4,
 "nbformat_minor": 4
}

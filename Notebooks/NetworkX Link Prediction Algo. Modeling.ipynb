{
 "cells": [
  {
   "cell_type": "code",
   "execution_count": 3,
   "metadata": {},
   "outputs": [],
   "source": [
    "import networkx as nx\n",
    "import pandas as pd\n",
    "import numpy as np\n",
    "import matplotlib.pyplot as plt\n",
    "import seaborn as sns\n",
    "import pickle\n",
    "\n",
    "from sklearn.metrics import accuracy_score, precision_score, recall_score, log_loss, f1_score\n",
    "from sklearn.metrics import f1_score, auc, roc_curve, plot_confusion_matrix, classification_report\n",
    "from sklearn.linear_model import LogisticRegression\n",
    "from sklearn.ensemble import RandomForestClassifier, GradientBoostingClassifier\n",
    "from sklearn.neural_network import MLPClassifier\n",
    "from sklearn.model_selection import GridSearchCV, train_test_split"
   ]
  },
  {
   "cell_type": "code",
   "execution_count": 97,
   "metadata": {},
   "outputs": [],
   "source": [
    "# Loads the saved pickle file data: final, train, and test data\n",
    "\n",
    "file = open('./Pickle Files/NetworkX_Pre-Processing_Data.pickle','rb')\n",
    "final_df_nx_scaled = pickle.load(file)\n",
    "X_train_nx = pickle.load(file)\n",
    "X_test_nx = pickle.load(file)\n",
    "y_train_nx = pickle.load(file)\n",
    "y_test_nx = pickle.load(file)\n",
    "\n",
    "file = open('./Pickle Files/Data_Wrangling_Data.pickle','rb')\n",
    "_ = pickle.load(file)\n",
    "G = pickle.load(file)"
   ]
  },
  {
   "cell_type": "markdown",
   "metadata": {},
   "source": [
    "# NetworkX Link Prediction Algorithms Modeling Approach"
   ]
  },
  {
   "cell_type": "markdown",
   "metadata": {},
   "source": [
    "# Logistic Regression Classifier"
   ]
  },
  {
   "cell_type": "markdown",
   "metadata": {},
   "source": [
    "1. Uses GridSearchCV for hyperparameter tuning to pick best model version"
   ]
  },
  {
   "cell_type": "code",
   "execution_count": 60,
   "metadata": {
    "scrolled": false
   },
   "outputs": [
    {
     "name": "stdout",
     "output_type": "stream",
     "text": [
      "LogisticRegression(C=1, max_iter=1000, random_state=0)\n"
     ]
    }
   ],
   "source": [
    "lr = LogisticRegression(random_state = 0, max_iter = 1000)\n",
    "param_grid = {'C': [0.01,0.1,1]}\n",
    "gs_lr = GridSearchCV(lr, param_grid = param_grid, scoring = 'accuracy', cv = 3, n_jobs = -1)\n",
    "gs_lr.fit(X_train_nx, y_train_nx)\n",
    "lr = gs_lr.best_estimator_\n",
    "print(lr)"
   ]
  },
  {
   "cell_type": "markdown",
   "metadata": {},
   "source": [
    "2. Fits model & makes predictions"
   ]
  },
  {
   "cell_type": "code",
   "execution_count": 61,
   "metadata": {},
   "outputs": [],
   "source": [
    "y_pred_lr = lr.predict(X_test_nx)"
   ]
  },
  {
   "cell_type": "markdown",
   "metadata": {},
   "source": [
    "3. Calculates Accuracy, Precision, Recall, F1 Score, Log-Loss, AUC-ROC"
   ]
  },
  {
   "cell_type": "code",
   "execution_count": 62,
   "metadata": {},
   "outputs": [
    {
     "name": "stdout",
     "output_type": "stream",
     "text": [
      "              precision    recall  f1-score   support\n",
      "\n",
      "           0       0.88      0.92      0.90     17000\n",
      "           1       0.91      0.87      0.89     16840\n",
      "\n",
      "    accuracy                           0.89     33840\n",
      "   macro avg       0.90      0.89      0.89     33840\n",
      "weighted avg       0.90      0.89      0.89     33840\n",
      "\n"
     ]
    }
   ],
   "source": [
    "# Classification Report\n",
    "\n",
    "print(classification_report(y_test_nx, y_pred_lr, zero_division = 0))"
   ]
  },
  {
   "cell_type": "code",
   "execution_count": 63,
   "metadata": {},
   "outputs": [
    {
     "name": "stdout",
     "output_type": "stream",
     "text": [
      "Accuracy: 0.89\n",
      "Precision: 0.9\n",
      "Recall: 0.89\n",
      "F1-Score: 0.89\n",
      "Log Loss: 0.31\n"
     ]
    }
   ],
   "source": [
    "# Computes Accuracy, Precision, Recall, F1 Score, Log-Loss\n",
    "\n",
    "accuracy, precision, recall, f1, logloss = [], [], [], [], []\n",
    "\n",
    "accuracy.append(round(accuracy_score(y_test_nx, y_pred_lr),2))\n",
    "precision.append(round(precision_score(y_test_nx, y_pred_lr, average = 'macro', zero_division = 0),2))\n",
    "recall.append(round(recall_score(y_test_nx, y_pred_lr, average = 'macro'),2))\n",
    "f1.append(round(f1_score(y_test_nx, y_pred_lr, average = 'macro'),2))\n",
    "lr_probas = lr.predict_proba(X_test_nx)\n",
    "logloss.append(round(log_loss(y_test_nx, lr_probas),2))\n",
    "\n",
    "print('Accuracy: {}'.format(accuracy[-1]))\n",
    "print('Precision: {}'.format(precision[-1]))\n",
    "print('Recall: {}'.format(recall[-1])) \n",
    "print('F1-Score: {}'.format(f1[-1]))\n",
    "print('Log Loss: {}'.format(logloss[-1]))"
   ]
  },
  {
   "cell_type": "code",
   "execution_count": 64,
   "metadata": {},
   "outputs": [
    {
     "name": "stdout",
     "output_type": "stream",
     "text": [
      "Logistic Regression AUC-ROC 0.95\n"
     ]
    }
   ],
   "source": [
    "# Computer AUC-ROC\n",
    "\n",
    "fpr = dict()\n",
    "tpr = dict() \n",
    "roc_auc = dict()\n",
    "colors = ['blue', 'red', 'green', 'purple']\n",
    "\n",
    "probs = lr.predict_proba(X_test_nx)[:,1]\n",
    "\n",
    "fpr[\"Logistic Regression\"], tpr[\"Logistic Regression\"], _ = roc_curve(y_test_nx, probs)\n",
    "roc_auc[\"Logistic Regression\"] = auc(fpr[\"Logistic Regression\"], tpr[\"Logistic Regression\"])                           \n",
    "\n",
    "print('Logistic Regression AUC-ROC {0:.2f}'.format(roc_auc['Logistic Regression']))"
   ]
  },
  {
   "cell_type": "markdown",
   "metadata": {},
   "source": [
    "4. Prints Confusion Matrix"
   ]
  },
  {
   "cell_type": "code",
   "execution_count": 65,
   "metadata": {
    "scrolled": true
   },
   "outputs": [
    {
     "data": {
      "image/png": "[encoded data removed]",
      "text/plain": [
       "<Figure size 360x360 with 2 Axes>"
      ]
     },
     "metadata": {
      "needs_background": "light"
     },
     "output_type": "display_data"
    }
   ],
   "source": [
    "fig, ax = plt.subplots(figsize=(5, 5))\n",
    "disp = plot_confusion_matrix(lr, X_test_nx, y_test_nx, cmap = plt.cm.Blues, ax = ax, xticks_rotation = 'vertical')\n",
    "plt.show()"
   ]
  },
  {
   "cell_type": "markdown",
   "metadata": {},
   "source": [
    "# Random Forest Classifier"
   ]
  },
  {
   "cell_type": "markdown",
   "metadata": {},
   "source": [
    "1. Uses GridSearchCV for hyperparameter tuning to pick best model version"
   ]
  },
  {
   "cell_type": "code",
   "execution_count": 66,
   "metadata": {},
   "outputs": [
    {
     "name": "stdout",
     "output_type": "stream",
     "text": [
      "RandomForestClassifier(n_estimators=500, random_state=0)\n"
     ]
    }
   ],
   "source": [
    "rf = RandomForestClassifier(random_state = 0)\n",
    "param_grid = {'n_estimators': [100,300,500]}\n",
    "gs_rf = GridSearchCV(rf, param_grid = param_grid, scoring = 'accuracy', cv = 3, n_jobs = -1)\n",
    "gs_rf.fit(X_train_nx, y_train_nx)\n",
    "rf = gs_rf.best_estimator_\n",
    "print(rf)"
   ]
  },
  {
   "cell_type": "markdown",
   "metadata": {},
   "source": [
    "2. Fits model & makes predictions"
   ]
  },
  {
   "cell_type": "code",
   "execution_count": 67,
   "metadata": {},
   "outputs": [],
   "source": [
    "y_pred_rf = rf.predict(X_test_nx)"
   ]
  },
  {
   "cell_type": "markdown",
   "metadata": {},
   "source": [
    "3. Calculates Accuracy, Precision, Recall, F1 Score, Log-Loss, AUC-ROC"
   ]
  },
  {
   "cell_type": "code",
   "execution_count": 69,
   "metadata": {},
   "outputs": [
    {
     "name": "stdout",
     "output_type": "stream",
     "text": [
      "              precision    recall  f1-score   support\n",
      "\n",
      "           0       0.90      0.87      0.89     17000\n",
      "           1       0.88      0.90      0.89     16840\n",
      "\n",
      "    accuracy                           0.89     33840\n",
      "   macro avg       0.89      0.89      0.89     33840\n",
      "weighted avg       0.89      0.89      0.89     33840\n",
      "\n"
     ]
    }
   ],
   "source": [
    "# Classification Report\n",
    "\n",
    "print(classification_report(y_test_nx, y_pred_rf))"
   ]
  },
  {
   "cell_type": "code",
   "execution_count": 70,
   "metadata": {},
   "outputs": [
    {
     "name": "stdout",
     "output_type": "stream",
     "text": [
      "Accuracy: 0.89\n",
      "Precision: 0.89\n",
      "Recall: 0.89\n",
      "F1-Score: 0.89\n",
      "Log Loss: 0.39\n"
     ]
    }
   ],
   "source": [
    "# Computes Accuracy, Precision, Recall, F1 Score, Log-Loss\n",
    "\n",
    "accuracy.append(round(accuracy_score(y_test_nx, y_pred_rf),2))\n",
    "precision.append(round(precision_score(y_test_nx, y_pred_rf, average = 'macro'),2))\n",
    "recall.append(round(recall_score(y_test_nx, y_pred_rf, average = 'macro'),2))\n",
    "f1.append(round(f1_score(y_test_nx, y_pred_rf, average = 'macro'),2))\n",
    "rf_probas = rf.predict_proba(X_test_nx)\n",
    "logloss.append(round(log_loss(y_test_nx, rf_probas),2))\n",
    "\n",
    "print('Accuracy: {}'.format(accuracy[-1]))\n",
    "print('Precision: {}'.format(precision[-1]))\n",
    "print('Recall: {}'.format(recall[-1])) \n",
    "print('F1-Score: {}'.format(f1[-1]))\n",
    "print('Log Loss: {}'.format(logloss[-1]))"
   ]
  },
  {
   "cell_type": "code",
   "execution_count": 71,
   "metadata": {},
   "outputs": [
    {
     "name": "stdout",
     "output_type": "stream",
     "text": [
      "Random Forest ROC Curve Area 0.94\n"
     ]
    }
   ],
   "source": [
    "# Computer AUC-ROC\n",
    "\n",
    "rf_probs = rf.predict_proba(X_test_nx)[:,1]\n",
    "\n",
    "fpr[\"Random Forest\"], tpr[\"Random Forest\"], _ = roc_curve(y_test_nx, rf_probs)\n",
    "roc_auc[\"Random Forest\"] = auc(fpr[\"Random Forest\"], tpr[\"Random Forest\"])                           \n",
    "\n",
    "print('Random Forest ROC Curve Area {0:.2f}'.format(roc_auc['Random Forest']))"
   ]
  },
  {
   "cell_type": "markdown",
   "metadata": {},
   "source": [
    "4. Prints Confusion Matrix"
   ]
  },
  {
   "cell_type": "code",
   "execution_count": 72,
   "metadata": {},
   "outputs": [
    {
     "data": {
      "image/png": "[encoded data removed]",
      "text/plain": [
       "<Figure size 360x360 with 2 Axes>"
      ]
     },
     "metadata": {
      "needs_background": "light"
     },
     "output_type": "display_data"
    }
   ],
   "source": [
    "fig, ax = plt.subplots(figsize=(5, 5))\n",
    "disp = plot_confusion_matrix(rf, X_test_nx, y_test_nx, cmap = plt.cm.Blues, ax = ax, xticks_rotation = 'vertical')\n",
    "plt.show()"
   ]
  },
  {
   "cell_type": "markdown",
   "metadata": {},
   "source": [
    "# Gradient Boosting Classifier"
   ]
  },
  {
   "cell_type": "markdown",
   "metadata": {},
   "source": [
    "1. Uses GridSearchCV for hyperparameter tuning to pick best model version"
   ]
  },
  {
   "cell_type": "code",
   "execution_count": 73,
   "metadata": {},
   "outputs": [
    {
     "name": "stdout",
     "output_type": "stream",
     "text": [
      "GradientBoostingClassifier(learning_rate=0.05, random_state=0)\n"
     ]
    }
   ],
   "source": [
    "gb = GradientBoostingClassifier(random_state = 0)\n",
    "param_grid = {'learning_rate': [0.01,0.05,0.1]}\n",
    "gs_gb = GridSearchCV(gb, param_grid = param_grid, scoring = 'accuracy', cv = 3, n_jobs = -1)\n",
    "gs_gb.fit(X_train_nx, y_train_nx)\n",
    "gb = gs_gb.best_estimator_\n",
    "print(gb)"
   ]
  },
  {
   "cell_type": "markdown",
   "metadata": {},
   "source": [
    "2. Fits model & makes predictions"
   ]
  },
  {
   "cell_type": "code",
   "execution_count": 74,
   "metadata": {},
   "outputs": [],
   "source": [
    "y_pred_gb = gb.predict(X_test_nx)"
   ]
  },
  {
   "cell_type": "markdown",
   "metadata": {},
   "source": [
    "3. Calculates Accuracy, Precision, Recall, F1 Score, Log-Loss, AUC-ROC"
   ]
  },
  {
   "cell_type": "code",
   "execution_count": 75,
   "metadata": {},
   "outputs": [
    {
     "name": "stdout",
     "output_type": "stream",
     "text": [
      "              precision    recall  f1-score   support\n",
      "\n",
      "           0       0.95      0.88      0.91     17000\n",
      "           1       0.89      0.95      0.92     16840\n",
      "\n",
      "    accuracy                           0.92     33840\n",
      "   macro avg       0.92      0.92      0.92     33840\n",
      "weighted avg       0.92      0.92      0.92     33840\n",
      "\n"
     ]
    }
   ],
   "source": [
    "# Classification Report\n",
    "\n",
    "print(classification_report(y_test_nx, y_pred_gb))"
   ]
  },
  {
   "cell_type": "code",
   "execution_count": 76,
   "metadata": {},
   "outputs": [
    {
     "name": "stdout",
     "output_type": "stream",
     "text": [
      "Accuracy: 0.92\n",
      "Precision: 0.92\n",
      "Recall: 0.92\n",
      "F1-Score: 0.92\n",
      "Log Loss: 0.24\n"
     ]
    }
   ],
   "source": [
    "# Computes Accuracy, Precision, Recall, F1 Score, Log-Loss\n",
    "\n",
    "accuracy.append(round(accuracy_score(y_test_nx, y_pred_gb),2))\n",
    "precision.append(round(precision_score(y_test_nx, y_pred_gb, average = 'macro'),2))\n",
    "recall.append(round(recall_score(y_test_nx, y_pred_gb, average = 'macro'),2))\n",
    "f1.append(round(f1_score(y_test_nx, y_pred_gb, average = 'macro'),2))\n",
    "gb_probas = gb.predict_proba(X_test_nx)\n",
    "logloss.append(round(log_loss(y_test_nx, gb_probas),2))\n",
    "\n",
    "print('Accuracy: {}'.format(accuracy[-1]))\n",
    "print('Precision: {}'.format(precision[-1]))\n",
    "print('Recall: {}'.format(recall[-1])) \n",
    "print('F1-Score: {}'.format(f1[-1]))\n",
    "print('Log Loss: {}'.format(logloss[-1]))"
   ]
  },
  {
   "cell_type": "code",
   "execution_count": 78,
   "metadata": {},
   "outputs": [
    {
     "name": "stdout",
     "output_type": "stream",
     "text": [
      "Gradient Boosting ROC Curve Area 0.96\n"
     ]
    }
   ],
   "source": [
    "# Computer AUC-ROC\n",
    "\n",
    "gb_probs = gb.predict_proba(X_test_nx)[:,1]\n",
    "\n",
    "fpr[\"Gradient Boosting\"], tpr[\"Gradient Boosting\"], _ = roc_curve(y_test_nx, gb_probs)\n",
    "roc_auc[\"Gradient Boosting\"] = auc(fpr[\"Gradient Boosting\"], tpr[\"Gradient Boosting\"])                           \n",
    "\n",
    "print('Gradient Boosting ROC Curve Area {0:.2f}'.format(roc_auc['Gradient Boosting']))"
   ]
  },
  {
   "cell_type": "markdown",
   "metadata": {},
   "source": [
    "4. Prints Confusion Matrix"
   ]
  },
  {
   "cell_type": "code",
   "execution_count": 79,
   "metadata": {},
   "outputs": [
    {
     "data": {
      "image/png": "[encoded data removed]",
      "text/plain": [
       "<Figure size 360x360 with 2 Axes>"
      ]
     },
     "metadata": {
      "needs_background": "light"
     },
     "output_type": "display_data"
    }
   ],
   "source": [
    "fig, ax = plt.subplots(figsize=(5, 5))\n",
    "disp = plot_confusion_matrix(gb, X_test_nx, y_test_nx, cmap = plt.cm.Blues, ax = ax, xticks_rotation = 'vertical')\n",
    "plt.show()"
   ]
  },
  {
   "cell_type": "markdown",
   "metadata": {},
   "source": [
    "# Multi-layer Perceptron Classifier (Neural Network Classifier)"
   ]
  },
  {
   "cell_type": "markdown",
   "metadata": {},
   "source": [
    "1. Uses GridSearchCV for hyperparameter tuning to pick best model version"
   ]
  },
  {
   "cell_type": "code",
   "execution_count": 87,
   "metadata": {},
   "outputs": [
    {
     "name": "stdout",
     "output_type": "stream",
     "text": [
      "MLPClassifier(max_iter=1000, random_state=0)\n"
     ]
    }
   ],
   "source": [
    "mlp = MLPClassifier(random_state = 0, max_iter = 1000)\n",
    "param_grid = {'activation': ['tanh','relu'], 'solver': ['sgd','adam']}\n",
    "gs_mlp = GridSearchCV(mlp, param_grid = param_grid, scoring = 'accuracy')\n",
    "gs_mlp.fit(X_train_nx, y_train_nx)\n",
    "mlp = gs_mlp.best_estimator_\n",
    "print(mlp)"
   ]
  },
  {
   "cell_type": "markdown",
   "metadata": {},
   "source": [
    "2. Fits model & makes predictions"
   ]
  },
  {
   "cell_type": "code",
   "execution_count": 88,
   "metadata": {},
   "outputs": [],
   "source": [
    "mlp.fit(X_train_nx, y_train_nx)\n",
    "y_pred_mlp = mlp.predict(X_test_nx)"
   ]
  },
  {
   "cell_type": "markdown",
   "metadata": {},
   "source": [
    "3. Calculates Accuracy, Precision, Recall, F1 Score, Log-Loss, AUC-ROC"
   ]
  },
  {
   "cell_type": "code",
   "execution_count": 89,
   "metadata": {},
   "outputs": [
    {
     "name": "stdout",
     "output_type": "stream",
     "text": [
      "              precision    recall  f1-score   support\n",
      "\n",
      "           0       0.95      0.88      0.91     17000\n",
      "           1       0.88      0.96      0.92     16840\n",
      "\n",
      "    accuracy                           0.92     33840\n",
      "   macro avg       0.92      0.92      0.92     33840\n",
      "weighted avg       0.92      0.92      0.92     33840\n",
      "\n"
     ]
    }
   ],
   "source": [
    "# Classification Report\n",
    "\n",
    "print(classification_report(y_test_nx, y_pred_mlp))"
   ]
  },
  {
   "cell_type": "code",
   "execution_count": 90,
   "metadata": {},
   "outputs": [
    {
     "name": "stdout",
     "output_type": "stream",
     "text": [
      "Accuracy: 0.92\n",
      "Precision: 0.92\n",
      "Recall: 0.92\n",
      "F1-Score: 0.92\n",
      "Log Loss: 0.24\n"
     ]
    }
   ],
   "source": [
    "# Computes Accuracy, Precision, Recall, F1 Score, Log-Loss\n",
    "\n",
    "accuracy.append(round(accuracy_score(y_test_nx, y_pred_mlp),2))\n",
    "precision.append(round(precision_score(y_test_nx, y_pred_mlp, average = 'macro'),2))\n",
    "recall.append(round(recall_score(y_test_nx, y_pred_mlp, average = 'macro'),2))\n",
    "f1.append(round(f1_score(y_test_nx, y_pred_mlp, average = 'macro'),2))\n",
    "mlp_probas = mlp.predict_proba(X_test_nx)\n",
    "logloss.append(round(log_loss(y_test_nx, mlp_probas),2))\n",
    "\n",
    "print('Accuracy: {}'.format(accuracy[-1]))\n",
    "print('Precision: {}'.format(precision[-1]))\n",
    "print('Recall: {}'.format(recall[-1])) \n",
    "print('F1-Score: {}'.format(f1[-1]))\n",
    "print('Log Loss: {}'.format(logloss[-1]))"
   ]
  },
  {
   "cell_type": "code",
   "execution_count": 91,
   "metadata": {},
   "outputs": [
    {
     "name": "stdout",
     "output_type": "stream",
     "text": [
      "Neural Network ROC Curve Area 0.95\n"
     ]
    }
   ],
   "source": [
    "# Computer AUC-ROC\n",
    "\n",
    "mlp_probs = mlp.predict_proba(X_test_nx)[:,1]\n",
    "\n",
    "fpr[\"Neural Network\"], tpr[\"Neural Network\"], _ = roc_curve(y_test_nx, mlp_probs)\n",
    "roc_auc[\"Neural Network\"] = auc(fpr[\"Neural Network\"], tpr[\"Neural Network\"])                           \n",
    "\n",
    "print('Neural Network ROC Curve Area {0:.2f}'.format(roc_auc['Neural Network']))"
   ]
  },
  {
   "cell_type": "markdown",
   "metadata": {},
   "source": [
    "4. Prints Confusion Matrix"
   ]
  },
  {
   "cell_type": "code",
   "execution_count": 92,
   "metadata": {},
   "outputs": [
    {
     "data": {
      "image/png": "[encoded data removed]",
      "text/plain": [
       "<Figure size 360x360 with 2 Axes>"
      ]
     },
     "metadata": {
      "needs_background": "light"
     },
     "output_type": "display_data"
    }
   ],
   "source": [
    "fig, ax = plt.subplots(figsize=(5, 5))\n",
    "disp = plot_confusion_matrix(mlp, X_test_nx, y_test_nx, cmap = plt.cm.Blues, ax = ax, xticks_rotation = 'vertical')\n",
    "plt.show()"
   ]
  },
  {
   "cell_type": "markdown",
   "metadata": {},
   "source": [
    "# Model Comparison"
   ]
  },
  {
   "cell_type": "markdown",
   "metadata": {},
   "source": [
    "1. Compares models accuracies: Creates 5 bar plots for each of the metrics of accuracy, precision, recall, F1-score, log-loss metrics for each of the 4 models"
   ]
  },
  {
   "cell_type": "code",
   "execution_count": 93,
   "metadata": {},
   "outputs": [
    {
     "data": {
      "image/png": "[encoded data removed]",
      "text/plain": [
       "<Figure size 720x360 with 1 Axes>"
      ]
     },
     "metadata": {
      "needs_background": "light"
     },
     "output_type": "display_data"
    },
    {
     "data": {
      "image/png": "[encoded data removed]",
      "text/plain": [
       "<Figure size 720x360 with 1 Axes>"
      ]
     },
     "metadata": {
      "needs_background": "light"
     },
     "output_type": "display_data"
    },
    {
     "data": {
      "image/png": "[encoded data removed]",
      "text/plain": [
       "<Figure size 720x360 with 1 Axes>"
      ]
     },
     "metadata": {
      "needs_background": "light"
     },
     "output_type": "display_data"
    },
    {
     "data": {
      "image/png": "[encoded data removed]",
      "text/plain": [
       "<Figure size 720x360 with 1 Axes>"
      ]
     },
     "metadata": {
      "needs_background": "light"
     },
     "output_type": "display_data"
    },
    {
     "data": {
      "image/png": "[encoded data removed]",
      "text/plain": [
       "<Figure size 720x360 with 1 Axes>"
      ]
     },
     "metadata": {
      "needs_background": "light"
     },
     "output_type": "display_data"
    }
   ],
   "source": [
    "labels = ['Logistic Regression','Random Forest','Gradient Boosting', 'MLP (Neural Network)']\n",
    "\n",
    "# Plotting Accuracy Scores\n",
    "plt.figure(figsize = (10,5))\n",
    "plt.xlabel('Models', fontsize = 15)\n",
    "plt.ylabel('Accuracy Scores', fontsize = 15)\n",
    "plt.title('Accuracy Scores Of Models', fontsize = 15)\n",
    "\n",
    "bars = plt.bar(labels, accuracy, color = 'blue')\n",
    "for bar in bars:\n",
    "    plt.text(bar.get_x() + 0.3, bar.get_height() + 0.005, bar.get_height())\n",
    "plt.show()\n",
    "\n",
    "# Plotting Precision Scores\n",
    "plt.figure(figsize = (10,5))\n",
    "plt.xlabel('Models', fontsize = 15)\n",
    "plt.ylabel('Precision Scores', fontsize = 15)\n",
    "plt.title('Precision Scores Of Models', fontsize = 15)\n",
    "\n",
    "bars = plt.bar(labels, precision, color = 'red')\n",
    "for bar in bars:\n",
    "    plt.text(bar.get_x() + 0.3, bar.get_height() + 0.005, bar.get_height())\n",
    "plt.show()\n",
    "\n",
    "# Plotting Recall Scores\n",
    "plt.figure(figsize = (10,5))\n",
    "plt.xlabel('Models', fontsize = 15)\n",
    "plt.ylabel('Recall Scores', fontsize = 15)\n",
    "plt.title('Recall Scores Of Models', fontsize = 15)\n",
    "\n",
    "bars = plt.bar(labels, recall, color = 'green')\n",
    "for bar in bars:\n",
    "    plt.text(bar.get_x() + 0.3, bar.get_height() + 0.005, bar.get_height())\n",
    "plt.show()\n",
    "\n",
    "# Plotting F1 Scores\n",
    "plt.figure(figsize = (10,5))\n",
    "plt.xlabel('Models', fontsize = 15)\n",
    "plt.ylabel('F1 Scores', fontsize = 15)\n",
    "plt.title('F1 Scores Of Models', fontsize = 15)\n",
    "\n",
    "bars = plt.bar(labels, f1, color = 'orange')\n",
    "for bar in bars:\n",
    "    plt.text(bar.get_x() + 0.3, bar.get_height() + 0.005, bar.get_height())\n",
    "plt.show()\n",
    "\n",
    "# Plotting Log Loss Scores\n",
    "plt.figure(figsize = (10,5))\n",
    "plt.xlabel('Models', fontsize = 15)\n",
    "plt.ylabel('Log Loss Scores', fontsize = 15)\n",
    "plt.title('Log Loss Scores Of Models', fontsize = 15)\n",
    "\n",
    "bars = plt.bar(labels, logloss, color = 'purple')\n",
    "for bar in bars: \n",
    "    plt.text(bar.get_x() + 0.3, bar.get_height() + 0.01, bar.get_height())\n",
    "plt.show()"
   ]
  },
  {
   "cell_type": "markdown",
   "metadata": {},
   "source": [
    "2. Compares models AUC-ROC"
   ]
  },
  {
   "cell_type": "code",
   "execution_count": 94,
   "metadata": {},
   "outputs": [
    {
     "data": {
      "image/png": "[encoded data removed]",
      "text/plain": [
       "<Figure size 432x288 with 1 Axes>"
      ]
     },
     "metadata": {
      "needs_background": "light"
     },
     "output_type": "display_data"
    }
   ],
   "source": [
    "for fp, tp, color, roc in zip(fpr, tpr, colors, roc_auc): \n",
    "    plt.plot(fpr[fp], tpr[tp], color = color, lw = 2, label = '{0} ROC curve (area = {1:0.2f})'.format(roc, roc_auc[roc]))\n",
    "\n",
    "plt.plot([0, 1], [0, 1], 'k--')\n",
    "plt.xlim([0.0, 1.0])\n",
    "plt.ylim([0.0, 1.05])\n",
    "plt.xlabel('False Positive Rate')\n",
    "plt.ylabel('True Positive Rate')\n",
    "plt.title('ROC For Multi-Class Data')\n",
    "plt.legend(loc = \"lower right\")\n",
    "plt.show()"
   ]
  },
  {
   "cell_type": "markdown",
   "metadata": {},
   "source": [
    "# Facebook Friend Recommender"
   ]
  },
  {
   "cell_type": "code",
   "execution_count": 98,
   "metadata": {},
   "outputs": [],
   "source": [
    "# Gets probabilites for each unconnected pair that includes the user requested user # and prints the top k as requested by user\n",
    "\n",
    "def recommend_friends_nx():\n",
    "    \n",
    "    df = []\n",
    "    \n",
    "    # Prompts the user for user to recommend friends for\n",
    "    while True: \n",
    "        \n",
    "        num = input(f'Please enter the user (0-4038) to get friend recommendations for:\\n')\n",
    "        try: int(num)\n",
    "        except ValueError: continue\n",
    "        num = int(num)\n",
    "        if not (num >= 0 and num < len(G.nodes)): continue\n",
    "        else: break\n",
    "    \n",
    "    df = final_df_nx_scaled[(final_df_nx_scaled.loc[:,'Connected'] == 0) & ((final_df_nx_scaled.loc[:,'Node 1'] == num) | (final_df_nx_scaled.loc[:,'Node 2'] == num))]\n",
    "    \n",
    "    # Prompts the user for how many recommmendations they want\n",
    "    while True:\n",
    "        k = input(f'Please enter the k number of friend recommendations out of {len(df)} that you would like to recieve:\\n')\n",
    "        try: int(k)\n",
    "        except ValueError: continue\n",
    "        k = int(k)\n",
    "        if not (k > 0 and k <= len(df)): continue\n",
    "        else: break\n",
    "       \n",
    "    # Finds the top most likely unconnected node future links and their probabilities of linking to the specific user specified\n",
    "    features = []\n",
    "    columns = ['Common Neighbors', 'Jaccard Coefficient','Resource Allocation Index','Adamic Adar Index', 'Preferential Attachment']\n",
    "    features = df[columns]\n",
    "    features = np.array(features) \n",
    "    \n",
    "    top_k_indices = np.flip(np.argsort(mlp.predict_proba(features)[:,1]))[0:k]\n",
    "    \n",
    "    rec_friends, node = {}, ''\n",
    "    \n",
    "    # Stores the user values and probabilites in a dictionary\n",
    "    for i in top_k_indices:\n",
    "        \n",
    "        if df.iloc[i]['Node 1'] != num: node = 'Node 1'\n",
    "        else: node = 'Node 2'\n",
    "    \n",
    "        rec_friends[df.iloc[i][node]] = round(mlp.predict_proba(features)[:,1][i] * 100,2)\n",
    "    \n",
    "    # Prints the most likely future recommended friends\n",
    "    print(f'Friend recommendations for user {num} are:\\n')\n",
    "    for u,p in rec_friends.items():\n",
    "        print(f'User: {u} at {p}% chance of a future link')"
   ]
  },
  {
   "cell_type": "code",
   "execution_count": 104,
   "metadata": {
    "scrolled": true
   },
   "outputs": [
    {
     "name": "stdout",
     "output_type": "stream",
     "text": [
      "Please enter the user (0-4038) to get friend recommendations for:\n",
      "65\n",
      "Please enter the k number of friend recommendations out of 22 that you would like to recieve:\n",
      "22\n",
      "Friend recommendations for user 65 are:\n",
      "\n",
      "User: 56.0 at 81.09% chance of a future link\n",
      "User: 325.0 at 74.75% chance of a future link\n",
      "User: 315.0 at 63.15% chance of a future link\n",
      "User: 168.0 at 51.07% chance of a future link\n",
      "User: 55.0 at 35.69% chance of a future link\n",
      "User: 221.0 at 5.89% chance of a future link\n",
      "User: 73.0 at 5.85% chance of a future link\n",
      "User: 3.0 at 5.69% chance of a future link\n",
      "User: 216.0 at 1.55% chance of a future link\n",
      "User: 234.0 at 1.55% chance of a future link\n",
      "User: 81.0 at 1.49% chance of a future link\n",
      "User: 229.0 at 1.35% chance of a future link\n",
      "User: 6.0 at 1.35% chance of a future link\n",
      "User: 167.0 at 1.32% chance of a future link\n",
      "User: 93.0 at 1.28% chance of a future link\n",
      "User: 195.0 at 1.26% chance of a future link\n",
      "User: 139.0 at 1.26% chance of a future link\n",
      "User: 177.0 at 1.21% chance of a future link\n",
      "User: 75.0 at 1.15% chance of a future link\n",
      "User: 274.0 at 1.15% chance of a future link\n",
      "User: 30.0 at 1.1% chance of a future link\n",
      "User: 92.0 at 1.06% chance of a future link\n"
     ]
    }
   ],
   "source": [
    "recommend_friends_nx()"
   ]
  },
  {
   "cell_type": "code",
   "execution_count": 100,
   "metadata": {},
   "outputs": [],
   "source": [
    "# Saves models to pickle file\n",
    "\n",
    "file = open('./Pickle Files/NetworkX_Models.pickle','wb')\n",
    "pickle.dump(lr, file)\n",
    "pickle.dump(rf, file)\n",
    "pickle.dump(gb, file)\n",
    "pickle.dump(mlp, file)"
   ]
  }
 ],
 "metadata": {
  "kernelspec": {
   "display_name": "Python 3",
   "language": "python",
   "name": "python3"
  },
  "language_info": {
   "codemirror_mode": {
    "name": "ipython",
    "version": 3
   },
   "file_extension": ".py",
   "mimetype": "text/x-python",
   "name": "python",
   "nbconvert_exporter": "python",
   "pygments_lexer": "ipython3",
   "version": "3.8.5"
  }
 },
 "nbformat": 4,
 "nbformat_minor": 4
}
